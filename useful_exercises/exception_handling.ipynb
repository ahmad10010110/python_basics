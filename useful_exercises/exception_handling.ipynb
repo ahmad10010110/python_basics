{
 "cells": [
  {
   "cell_type": "markdown",
   "id": "813502f6",
   "metadata": {},
   "source": [
    "# Exception Handling"
   ]
  },
  {
   "cell_type": "markdown",
   "id": "58b0b415",
   "metadata": {},
   "source": [
    "### Exercise 1\n",
    "print the type of error and handle that(Use specific and General Exception)\n"
   ]
  },
  {
   "cell_type": "code",
   "execution_count": 3,
   "id": "360dce55",
   "metadata": {},
   "outputs": [
    {
     "name": "stdout",
     "output_type": "stream",
     "text": [
      "Variable car is not defined\n"
     ]
    }
   ],
   "source": [
    "try:\n",
    "    company = 'Filgoer!'\n",
    "    print(car)\n",
    "except NameError:\n",
    "    print(\"Variable car is not defined\")\n",
    "except :\n",
    "    print(\"sth went wrong!\")\n",
    "    \n",
    "    "
   ]
  },
  {
   "cell_type": "markdown",
   "id": "39e51127",
   "metadata": {},
   "source": [
    "### Exercise 2\n",
    "print the type of error and handle that.(Use specific and General Exception)\n"
   ]
  },
  {
   "cell_type": "code",
   "execution_count": 2,
   "id": "861c768f",
   "metadata": {},
   "outputs": [
    {
     "name": "stdout",
     "output_type": "stream",
     "text": [
      "Filgoer!\n"
     ]
    }
   ],
   "source": [
    "\n",
    "\n",
    "\"\"\"It is not possible to manage the syntax error with try and except, so we must fix the syntax errors before anything.\"\"\"\n",
    "try:\n",
    "    company = 'Filgoer!'\n",
    "    print(company)\n",
    "except:\n",
    "    print(\"syntax error\")\n",
    "    \n",
    "    "
   ]
  },
  {
   "cell_type": "markdown",
   "id": "8f317502",
   "metadata": {},
   "source": [
    "### Exercise 3\n",
    "print the type of error and handle that.\n"
   ]
  },
  {
   "cell_type": "code",
   "execution_count": 1,
   "id": "c85c11ca",
   "metadata": {},
   "outputs": [
    {
     "name": "stdout",
     "output_type": "stream",
     "text": [
      "TypeError\n"
     ]
    }
   ],
   "source": [
    "try:\n",
    "    company = 'Filoger!'\n",
    "    print(company+5)\n",
    "except TypeError:\n",
    "    print(\"TypeError\")"
   ]
  },
  {
   "cell_type": "markdown",
   "id": "895b710b",
   "metadata": {},
   "source": [
    "### Exercise 4\n",
    "print the type of the error and handle that\n"
   ]
  },
  {
   "cell_type": "code",
   "execution_count": 2,
   "id": "fd97230a",
   "metadata": {},
   "outputs": [
    {
     "name": "stdout",
     "output_type": "stream",
     "text": [
      "IndexError\n"
     ]
    }
   ],
   "source": [
    "try:\n",
    "    company = 'Filoger!'\n",
    "    print(company[25])\n",
    "except IndexError:\n",
    "    print(\"IndexError\")"
   ]
  },
  {
   "cell_type": "markdown",
   "id": "bbe1f753",
   "metadata": {},
   "source": [
    "### Exercise 5\n",
    "print the type of error and handle that.\n"
   ]
  },
  {
   "cell_type": "code",
   "execution_count": 3,
   "id": "87312045",
   "metadata": {},
   "outputs": [
    {
     "name": "stdout",
     "output_type": "stream",
     "text": [
      "KeyError\n"
     ]
    }
   ],
   "source": [
    "try:\n",
    "    dict = {'Python': 2, 'DIP': 7, 'DL': 8}\n",
    "    print (dict['CV'])\n",
    "except KeyError:\n",
    "    print(\"KeyError\")"
   ]
  },
  {
   "cell_type": "markdown",
   "id": "a8470b44",
   "metadata": {},
   "source": [
    "### Exercise 6\n",
    "print the type of error and handle that.\n",
    "\n"
   ]
  },
  {
   "cell_type": "code",
   "execution_count": 5,
   "id": "32f97698",
   "metadata": {},
   "outputs": [
    {
     "name": "stdout",
     "output_type": "stream",
     "text": [
      "ValueError\n"
     ]
    }
   ],
   "source": [
    "try :\n",
    "    code = '45145GT'\n",
    "    int(code)\n",
    "except ValueError:\n",
    "    print(\"ValueError\")"
   ]
  }
 ],
 "metadata": {
  "kernelspec": {
   "display_name": "Python 3 (ipykernel)",
   "language": "python",
   "name": "python3"
  },
  "language_info": {
   "codemirror_mode": {
    "name": "ipython",
    "version": 3
   },
   "file_extension": ".py",
   "mimetype": "text/x-python",
   "name": "python",
   "nbconvert_exporter": "python",
   "pygments_lexer": "ipython3",
   "version": "3.9.12"
  }
 },
 "nbformat": 4,
 "nbformat_minor": 5
}
