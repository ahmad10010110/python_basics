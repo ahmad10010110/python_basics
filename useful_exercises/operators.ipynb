{
 "cells": [
  {
   "cell_type": "markdown",
   "id": "2da5cf9c",
   "metadata": {},
   "source": [
    "# Operators"
   ]
  },
  {
   "cell_type": "markdown",
   "id": "4acc350a",
   "metadata": {},
   "source": [
    "### Ex01\n",
    "Get a number as circle diameter, and calculate the circle area:"
   ]
  },
  {
   "cell_type": "code",
   "execution_count": 11,
   "id": "3aa5ee08",
   "metadata": {},
   "outputs": [
    {
     "name": "stdout",
     "output_type": "stream",
     "text": [
      "Enter diameter: 18\n",
      "input: 18.0 , output (print): Circle area is 254.46900494077323\n"
     ]
    }
   ],
   "source": [
    "import math \n",
    "\n",
    "diameter = float(input(\"Enter diameter: \"))\n",
    "circle_area = math.pi * (diameter/2)**2\n",
    "print(\"input: {0} , output (print): Circle area is {1}\".format(diameter, circle_area))\n"
   ]
  },
  {
   "cell_type": "markdown",
   "id": "2724b219",
   "metadata": {},
   "source": [
    "### Ex02\n",
    "Get width, height and length ,then calculate and print the surface area and volume of a cuboid!\n"
   ]
  },
  {
   "cell_type": "code",
   "execution_count": 13,
   "id": "d1320420",
   "metadata": {},
   "outputs": [
    {
     "name": "stdout",
     "output_type": "stream",
     "text": [
      "Enter width: 2\n",
      "Enter height: 2\n",
      "Enter length: 2\n",
      "input2.0: 18, input2:2.0, input3:2.0 , output (print): Volume of cuboid is 8.0 and Surface areaof cuboid is 24.0!\n"
     ]
    }
   ],
   "source": [
    "width = float(input(\"Enter width: \"))\n",
    "height = float(input(\"Enter height: \"))\n",
    "length = float(input(\"Enter length: \"))\n",
    "\n",
    "surface_area = 2 * (width * length) + 2 * (width * height) + 2 * (length * height)\n",
    "volume = length * width * height\n",
    "\n",
    "print(\"input{0}: 18, input2:{1}, input3:{2} , output (print): Volume of cuboid is {3} and Surface areaof cuboid is {4}!\".format(length, height, width, volume, surface_area))"
   ]
  },
  {
   "cell_type": "markdown",
   "id": "54ca301d",
   "metadata": {},
   "source": [
    "### Ex03\n",
    "input(2 number) and print sum, division, subtraction, multiplication.\n"
   ]
  },
  {
   "cell_type": "code",
   "execution_count": 17,
   "id": "4fcff24e",
   "metadata": {},
   "outputs": [
    {
     "name": "stdout",
     "output_type": "stream",
     "text": [
      "Enter a number: 8\n",
      "Enter a number: 4\n",
      "input_1: 8.0, input_2: 4.0, output: sum = 12.0, division=2.0, subtraction=4.0, multiplication=32.0\n"
     ]
    }
   ],
   "source": [
    "\n",
    "a = float(input(\"Enter a number: \"))\n",
    "b = float(input(\"Enter a number: \"))\n",
    "\n",
    "print(\"input_1: {0}, input_2: {1}, output: sum = {2}, division={3}, subtraction={4}, multiplication={5}\".format(a, b, a + b, a / b, a - b, a * b))\n"
   ]
  },
  {
   "cell_type": "markdown",
   "id": "5a39621b",
   "metadata": {},
   "source": [
    "### Ex04\n",
    "Get two string, concatenate them and print the result!\n"
   ]
  },
  {
   "cell_type": "code",
   "execution_count": 21,
   "id": "9112dcbd",
   "metadata": {},
   "outputs": [
    {
     "name": "stdout",
     "output_type": "stream",
     "text": [
      "Enter a string: a\n",
      "Enter a string: b\n",
      "input_1: a , input_2: b , output: result is \"a b\"\n"
     ]
    }
   ],
   "source": [
    "\n",
    "str1 = input(\"Enter a string: \")\n",
    "str2 = input(\"Enter a string: \")\n",
    "\n",
    "result = str1 + \" \" + str2\n",
    "print('input_1: {0} , input_2: {1} , output: result is \"{2}\"'.format(str1, str2, result))"
   ]
  },
  {
   "cell_type": "markdown",
   "id": "b6f5ad10",
   "metadata": {},
   "source": [
    "### Ex05\n",
    "Write a Python program to convert Fahrenheit to Celcius.\n"
   ]
  },
  {
   "cell_type": "code",
   "execution_count": 22,
   "id": "a638e993",
   "metadata": {},
   "outputs": [
    {
     "name": "stdout",
     "output_type": "stream",
     "text": [
      "Enter a fahrenheit: 86\n",
      "input: 86.0 , output: 86.0 degree Fahrenheit is equal to 30.0 degree Celsius.\n"
     ]
    }
   ],
   "source": [
    "\n",
    "f = float(input(\"Enter a fahrenheit: \"))\n",
    "c = (f - 32) / 1.8\n",
    "\n",
    "print(\"input: {0} , output: {0} degree Fahrenheit is equal to {1} degree Celsius.\".format(f, c))"
   ]
  },
  {
   "cell_type": "markdown",
   "id": "b58ab376",
   "metadata": {},
   "source": [
    "### Ex06\n",
    "Write a code to create following pattern!\n"
   ]
  },
  {
   "cell_type": "code",
   "execution_count": 23,
   "id": "10c2257a",
   "metadata": {},
   "outputs": [
    {
     "name": "stdout",
     "output_type": "stream",
     "text": [
      "\n",
      "#\n",
      "##\n",
      "###\n",
      "####\n",
      "#####\n",
      "######\n",
      "#######\n"
     ]
    }
   ],
   "source": [
    "for i in range(8):\n",
    "    print(i * \"#\")\n"
   ]
  }
 ],
 "metadata": {
  "kernelspec": {
   "display_name": "Python 3 (ipykernel)",
   "language": "python",
   "name": "python3"
  },
  "language_info": {
   "codemirror_mode": {
    "name": "ipython",
    "version": 3
   },
   "file_extension": ".py",
   "mimetype": "text/x-python",
   "name": "python",
   "nbconvert_exporter": "python",
   "pygments_lexer": "ipython3",
   "version": "3.9.12"
  }
 },
 "nbformat": 4,
 "nbformat_minor": 5
}
