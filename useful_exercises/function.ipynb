{
 "cells": [
  {
   "cell_type": "markdown",
   "id": "001e90b5",
   "metadata": {},
   "source": [
    "# Function"
   ]
  },
  {
   "cell_type": "markdown",
   "id": "7fb41d4f",
   "metadata": {},
   "source": [
    "### Exercise 1\n",
    "Write a Python function to print the odd numbers from a given list.\n"
   ]
  },
  {
   "cell_type": "code",
   "execution_count": 5,
   "id": "f882cc24",
   "metadata": {},
   "outputs": [
    {
     "data": {
      "text/plain": [
       "[1, 3, 5, 7, 9]"
      ]
     },
     "execution_count": 5,
     "metadata": {},
     "output_type": "execute_result"
    }
   ],
   "source": [
    "def oddnumber(list_of_num):\n",
    "    odds = []\n",
    "    for i in list_of_num:\n",
    "        if i%2 != 0:\n",
    "            odds.append(i)\n",
    "    return odds\n",
    "\n",
    "sample = [1, 2, 3, 4, 5, 6, 7, 8, 9]\n",
    "result = oddnumber(sample)\n"
   ]
  },
  {
   "cell_type": "markdown",
   "id": "44189123",
   "metadata": {},
   "source": [
    "### Exercise 2\n",
    "Write a Python function to calculate first n numbers of Fibonacci sequence. (n is function input)\n",
    "\n"
   ]
  },
  {
   "cell_type": "code",
   "execution_count": 1,
   "id": "fb087de0",
   "metadata": {},
   "outputs": [],
   "source": [
    "def fibo_sequence(n):\n",
    "    fibonacci_sequence = []\n",
    "    for i in range(n):\n",
    "        if i==0:\n",
    "            fibonacci_sequence.append(0)\n",
    "        elif i==1:\n",
    "            fibonacci_sequence.append(1)\n",
    "        else:\n",
    "            fibonacci_sequence.append(fibonacci_sequence[i-1]+fibonacci_sequence[i-2])\n",
    "    return fibonacci_sequence\n",
    "\n"
   ]
  },
  {
   "cell_type": "markdown",
   "id": "85cb7e08",
   "metadata": {},
   "source": [
    "### Exercise 3\n",
    "Write a Python function to sort a given list of dictionaries (employees) using Lambda. (Sort byage, then for same ages, sort by name)\n"
   ]
  },
  {
   "cell_type": "code",
   "execution_count": 2,
   "id": "e8e8833f",
   "metadata": {},
   "outputs": [
    {
     "data": {
      "text/plain": [
       "[{'name': 'Azam', 'age': 14},\n",
       " {'name': 'Sanaz', 'age': 14},\n",
       " {'name': 'Zahra', 'age': 16},\n",
       " {'name': 'Zahra', 'age': 17},\n",
       " {'name': 'AmirHossein', 'age': 18},\n",
       " {'name': 'Shayan', 'age': 18}]"
      ]
     },
     "execution_count": 2,
     "metadata": {},
     "output_type": "execute_result"
    }
   ],
   "source": [
    "employees = [{\"name\": \"Sanaz\", \"age\": 14},\n",
    "             {\"name\": \"AmirHossein\", \"age\": 18}, \n",
    "             {\"name\": \"Azam\", \"age\":14},\n",
    "             {\"name\": \"Zahra\", \"age\": 16},\n",
    "             {\"name\": \"Shayan\", \"age\": 18},\n",
    "             {\"name\": \"Zahra\", \"age\": 17}]\n",
    "\n",
    "def sort(input_list):\n",
    "    sorte = []\n",
    "    length = len(employees)\n",
    "    smaler = lambda x, y: x<y\n",
    "    equal = lambda x, y: x==y\n",
    "    for i in range(length):\n",
    "        mini = input_list[0]\n",
    "        for j in input_list:\n",
    "            if smaler(j[\"age\"], mini[\"age\"]):\n",
    "                mini = j\n",
    "            if equal(j[\"age\"], mini[\"age\"]) and smaler(j[\"name\"], mini[\"name\"]):\n",
    "                mini = j\n",
    "        sorte.append(mini)    \n",
    "        input_list.remove(mini)\n",
    "    return sorte\n",
    "\n",
    "sort(employees)\n",
    "\n",
    "\n"
   ]
  },
  {
   "cell_type": "code",
   "execution_count": 7,
   "id": "4e593387",
   "metadata": {},
   "outputs": [
    {
     "data": {
      "text/plain": [
       "[{'name': 'Sanaz', 'age': 14},\n",
       " {'name': 'Azam', 'age': 14},\n",
       " {'name': 'Zahra', 'age': 16},\n",
       " {'name': 'Zahra', 'age': 17},\n",
       " {'name': 'AmirHossein', 'age': 18},\n",
       " {'name': 'Shayan', 'age': 18}]"
      ]
     },
     "execution_count": 7,
     "metadata": {},
     "output_type": "execute_result"
    }
   ],
   "source": [
    "#Exercise 3 (second solution)\n",
    "\n",
    "#Write a Python function to sort a given list of dictionaries (employees) using Lambda. (Sort byage, then for same ages, sort by name)\n",
    "employees = [{\"name\": \"Sanaz\", \"age\": 14},\n",
    "             {\"name\": \"AmirHossein\", \"age\": 18}, \n",
    "             {\"name\": \"Azam\", \"age\":14},\n",
    "             {\"name\": \"Zahra\", \"age\": 16},\n",
    "             {\"name\": \"Shayan\", \"age\": 18},\n",
    "             {\"name\": \"Zahra\", \"age\": 17}]\n",
    "\n",
    "sorted_employees= sorted(employees, key=lambda dic: dic[\"name\"] and dic[\"age\"])\n",
    "sorted_employees"
   ]
  }
 ],
 "metadata": {
  "kernelspec": {
   "display_name": "Python 3 (ipykernel)",
   "language": "python",
   "name": "python3"
  },
  "language_info": {
   "codemirror_mode": {
    "name": "ipython",
    "version": 3
   },
   "file_extension": ".py",
   "mimetype": "text/x-python",
   "name": "python",
   "nbconvert_exporter": "python",
   "pygments_lexer": "ipython3",
   "version": "3.9.12"
  }
 },
 "nbformat": 4,
 "nbformat_minor": 5
}
