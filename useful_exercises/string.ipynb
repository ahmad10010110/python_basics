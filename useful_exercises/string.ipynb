{
 "cells": [
  {
   "cell_type": "markdown",
   "id": "c378fd63",
   "metadata": {},
   "source": [
    "# string"
   ]
  },
  {
   "cell_type": "markdown",
   "id": "01dc5b1a",
   "metadata": {},
   "source": [
    "### Exercise 1\n",
    "Count the number of characters (characters frequency) in a string and print the result as adictionary.\n"
   ]
  },
  {
   "cell_type": "code",
   "execution_count": 5,
   "id": "ee3b0a73",
   "metadata": {},
   "outputs": [
    {
     "name": "stdout",
     "output_type": "stream",
     "text": [
      "please insert a word...asss\n"
     ]
    },
    {
     "data": {
      "text/plain": [
       "{'a': 1, 's': 3}"
      ]
     },
     "execution_count": 5,
     "metadata": {},
     "output_type": "execute_result"
    }
   ],
   "source": [
    "word = input(\"please insert a word...\")\n",
    "result = {}\n",
    "for i in word:\n",
    "    cont = 0\n",
    "    for j in word:\n",
    "        if i == j:\n",
    "            cont+=1\n",
    "    result[i] = cont        \n",
    "            \n",
    "          "
   ]
  },
  {
   "cell_type": "markdown",
   "id": "55c8630a",
   "metadata": {},
   "source": [
    "### Exercise 2\n",
    "Replace 'Google' with the 'ChatGPT' the following text and print that again!"
   ]
  },
  {
   "cell_type": "code",
   "execution_count": 9,
   "id": "244870bd",
   "metadata": {},
   "outputs": [
    {
     "data": {
      "text/plain": [
       "'ChatGPT is the border of science and innovation!'"
      ]
     },
     "execution_count": 9,
     "metadata": {},
     "output_type": "execute_result"
    }
   ],
   "source": [
    "sentence = \"Google is the border of science and innovation!\"\n",
    "sent_list = sentence.split(\" \")\n",
    "\n",
    "for i in range(len(sent_list)):\n",
    "    if sent_list[i] == \"Google\":\n",
    "        sent_list[i] = \"ChatGPT\"\n",
    "        \n",
    "sentence = \" \".join(sent_list)"
   ]
  },
  {
   "cell_type": "markdown",
   "id": "4033a24b",
   "metadata": {},
   "source": [
    "### Exercise 3\n",
    "Get the current data and time and print the output.\n",
    "\n",
    "output: Current date is Feb 2 2023, and the time is 14:51"
   ]
  },
  {
   "cell_type": "code",
   "execution_count": 45,
   "id": "3b3eaa1f",
   "metadata": {},
   "outputs": [
    {
     "name": "stdout",
     "output_type": "stream",
     "text": [
      "Current date is Mar 05 2023, and the time is 23:07:20\n"
     ]
    }
   ],
   "source": [
    "\n",
    "import datetime\n",
    "now = datetime.datetime.now()\n",
    "\n",
    "year = now.year\n",
    "month = now.strftime(\"%b\") \n",
    "day = now.strftime(\"%d\")\n",
    "time = now.strftime(\"%X\")\n",
    "\n",
    "print(\"Current date is {0} {1} {2}, and the time is {3}\".format(month, day, year, time))\n"
   ]
  },
  {
   "cell_type": "markdown",
   "id": "2b52d7d7",
   "metadata": {},
   "source": [
    "### Exercise 4\n",
    "\n",
    "How many time 'filoger' is repeated in the following text?"
   ]
  },
  {
   "cell_type": "code",
   "execution_count": 74,
   "id": "ca4a74e0",
   "metadata": {},
   "outputs": [
    {
     "name": "stdout",
     "output_type": "stream",
     "text": [
      "Filoger is repeated 3 times in the text!\n"
     ]
    }
   ],
   "source": [
    "\n",
    "text = \"about FILOGER: Filoger is an educational institute that focuses on AI. filoger is the biggest farsispeakers AI community.\"\n",
    "\n",
    "txt = text.lower()\n",
    "char = [\"%\", \"!\", \"@\", \"#\", \":\", \".\", \"?\", \",\"]\n",
    "\n",
    "for i in txt:\n",
    "    if i in char:\n",
    "        txt = txt.replace(i, \" \")\n",
    "\n",
    "txt_list = txt.split(\" \")\n",
    "cont = 0\n",
    "\n",
    "for i in txt_list:\n",
    "    if i == \"filoger\":\n",
    "        cont += 1\n",
    "\n",
    "print(\"Filoger is repeated {0} times in the text!\".format(cont))     \n",
    "\n",
    "\n",
    "\n",
    "\n"
   ]
  }
 ],
 "metadata": {
  "kernelspec": {
   "display_name": "Python 3 (ipykernel)",
   "language": "python",
   "name": "python3"
  },
  "language_info": {
   "codemirror_mode": {
    "name": "ipython",
    "version": 3
   },
   "file_extension": ".py",
   "mimetype": "text/x-python",
   "name": "python",
   "nbconvert_exporter": "python",
   "pygments_lexer": "ipython3",
   "version": "3.9.12"
  }
 },
 "nbformat": 4,
 "nbformat_minor": 5
}
