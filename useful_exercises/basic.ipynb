{
 "cells": [
  {
   "cell_type": "markdown",
   "id": "30c6ee9b",
   "metadata": {},
   "source": [
    "# Basic"
   ]
  },
  {
   "cell_type": "markdown",
   "id": "a5c2ff3f",
   "metadata": {},
   "source": [
    "### Ex01\n",
    "What is the type of the following data?"
   ]
  },
  {
   "cell_type": "code",
   "execution_count": 5,
   "id": "ff83d3c4",
   "metadata": {},
   "outputs": [
    {
     "name": "stdout",
     "output_type": "stream",
     "text": [
      "<class 'str'>\n",
      "<class 'float'>\n",
      "<class 'int'>\n",
      "<class 'float'>\n",
      "<class 'bool'>\n"
     ]
    }
   ],
   "source": [
    "ex01 = [\"Filoger\" ,19.0 ,18  ,13.0 ,True ]\n",
    "for i in ex01 :\n",
    "    print(type(i))"
   ]
  },
  {
   "cell_type": "markdown",
   "id": "5db2c679",
   "metadata": {},
   "source": [
    "### Ex02\n",
    " Convert the following data to integer?\n",
    " \n",
    " \"Filoger\" = cant invert to int\n",
    " \n",
    "\"19.0\" = 19\n",
    "\n",
    "18 = 18\n",
    "\n",
    "13.0 = 13\n",
    "\n",
    "True = 1"
   ]
  },
  {
   "cell_type": "markdown",
   "id": "e8820cd9",
   "metadata": {},
   "source": [
    "### Ex03\n",
    "Print size of the following data in memory (bytes)"
   ]
  },
  {
   "cell_type": "code",
   "execution_count": 6,
   "id": "8008a7ed",
   "metadata": {},
   "outputs": [
    {
     "name": "stdout",
     "output_type": "stream",
     "text": [
      "56\n",
      "24\n",
      "28\n",
      "24\n",
      "28\n"
     ]
    }
   ],
   "source": [
    "import sys\n",
    "\n",
    "ex03 = [\"Filoger\" ,19.0 ,18  ,13.0 ,True ]\n",
    "for i in ex03 :\n",
    "    print(sys.getsizeof(i))\n",
    "    \n"
   ]
  },
  {
   "cell_type": "markdown",
   "id": "15fc394e",
   "metadata": {},
   "source": [
    "### Ex04\n",
    " Print running time of program to find type of the following data\n",
    "\n"
   ]
  },
  {
   "cell_type": "code",
   "execution_count": 7,
   "id": "cfb2051f",
   "metadata": {},
   "outputs": [
    {
     "name": "stdout",
     "output_type": "stream",
     "text": [
      "running time of program to find type of Filoger = 0.0\n",
      "running time of program to find type of 19.0 = 0.0\n",
      "running time of program to find type of 18 = 0.0\n",
      "running time of program to find type of 13.0 = 0.0\n",
      "running time of program to find type of True = 0.0\n",
      "total running =  0.000988006591796875\n"
     ]
    }
   ],
   "source": [
    "import sys\n",
    "import time\n",
    "\n",
    "x = time.time()\n",
    "ex03 = [\"Filoger\" ,19.0 ,18  ,13.0 ,True ]\n",
    "for i in ex03 :\n",
    "    befor = time.time()\n",
    "    sys.getsizeof(i)\n",
    "    after = time.time()\n",
    "    print(\"running time of program to find type of {0} = {1}\".format(i ,after - befor))\n",
    "    \n",
    "y = time.time()\n",
    "print(\"total running = \" ,y-x)    "
   ]
  }
 ],
 "metadata": {
  "kernelspec": {
   "display_name": "Python 3 (ipykernel)",
   "language": "python",
   "name": "python3"
  },
  "language_info": {
   "codemirror_mode": {
    "name": "ipython",
    "version": 3
   },
   "file_extension": ".py",
   "mimetype": "text/x-python",
   "name": "python",
   "nbconvert_exporter": "python",
   "pygments_lexer": "ipython3",
   "version": "3.9.12"
  }
 },
 "nbformat": 4,
 "nbformat_minor": 5
}
