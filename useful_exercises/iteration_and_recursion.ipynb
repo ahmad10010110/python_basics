{
 "cells": [
  {
   "cell_type": "markdown",
   "id": "ca33373f",
   "metadata": {},
   "source": [
    "# Iteration and Recursion"
   ]
  },
  {
   "cell_type": "markdown",
   "id": "0090d342",
   "metadata": {},
   "source": [
    "### Exercise 1\n",
    "Write a Python function to calculate first n numbers of Fibonacci sequence. (n is function input) Use recursion to solve the question"
   ]
  },
  {
   "cell_type": "code",
   "execution_count": 1,
   "id": "89a3f033",
   "metadata": {},
   "outputs": [
    {
     "data": {
      "text/plain": [
       "[0, 1, 1, 2, 3, 5, 8]"
      ]
     },
     "execution_count": 1,
     "metadata": {},
     "output_type": "execute_result"
    }
   ],
   "source": [
    "def fibo(n):\n",
    "    if n==0:\n",
    "        return 0\n",
    "    elif n==1:\n",
    "        return 1\n",
    "    else :\n",
    "        return fibo(n-1)+fibo(n-2)\n",
    "\n",
    "def fibonacci_sequence(n):\n",
    "    sequence = []\n",
    "    for i in range(n):\n",
    "        sequence.append(fibo(i))\n",
    "    return sequence\n",
    "\n",
    "fibonacci_sequence(7)"
   ]
  },
  {
   "cell_type": "code",
   "execution_count": null,
   "id": "0915f7eb",
   "metadata": {},
   "outputs": [],
   "source": []
  }
 ],
 "metadata": {
  "kernelspec": {
   "display_name": "Python 3 (ipykernel)",
   "language": "python",
   "name": "python3"
  },
  "language_info": {
   "codemirror_mode": {
    "name": "ipython",
    "version": 3
   },
   "file_extension": ".py",
   "mimetype": "text/x-python",
   "name": "python",
   "nbconvert_exporter": "python",
   "pygments_lexer": "ipython3",
   "version": "3.9.12"
  }
 },
 "nbformat": 4,
 "nbformat_minor": 5
}
