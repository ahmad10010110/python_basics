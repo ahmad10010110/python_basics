{
 "cells": [
  {
   "cell_type": "markdown",
   "id": "f5aa6424",
   "metadata": {},
   "source": [
    "# Set"
   ]
  },
  {
   "cell_type": "markdown",
   "id": "8a633f6f",
   "metadata": {},
   "source": [
    "### Exercise 01\n",
    "Find the length of the set it_companies.\n",
    "\n",
    "Add 'Twitter' to it_companies.\n",
    "\n",
    "Insert multiple IT companies at once to the set it_companies.\n",
    "\n",
    "Remove one of the companies from the set it_companies.\n",
    "\n",
    "What is the difference between remove and discard."
   ]
  },
  {
   "cell_type": "code",
   "execution_count": 17,
   "id": "3ff49789",
   "metadata": {},
   "outputs": [
    {
     "data": {
      "text/plain": [
       "{'Amazon',\n",
       " 'Apple',\n",
       " 'Facebook',\n",
       " 'Google',\n",
       " 'IBM',\n",
       " 'Microsoft',\n",
       " 'Oracle',\n",
       " 'Twitter',\n",
       " 'bela'}"
      ]
     },
     "execution_count": 17,
     "metadata": {},
     "output_type": "execute_result"
    }
   ],
   "source": [
    "it_companies = {'Facebook', 'Google', 'Microsoft', 'Apple', 'IBM', 'Oracle', 'Amazon'}\n",
    "\n",
    "#Find the length of the set it_companies \n",
    "len(it_companies)\n",
    "\n",
    "#Add 'Twitter' to it_companies\n",
    "it_companies.add(\"Twitter\")\n",
    "\n",
    "#Insert multiple IT companies at once to the set it_companies\n",
    "new = {\"bela\", \"belabela\"}\n",
    "it_companies.update(new)\n",
    "\n",
    "#Remove one of the companies from the set it_companies\n",
    "it_companies.remove(\"belabela\")\n",
    "\n",
    "#What is the difference between remove and discard\n",
    "\"\"\"\n",
    "If the item to remove does not exist, remove() will raise an error.\n",
    "If the item to remove does not exist, discard() will NOT raise an error.\n",
    "\"\"\"\n"
   ]
  },
  {
   "cell_type": "markdown",
   "id": "c1732070",
   "metadata": {},
   "source": [
    "### Exercise 02\n",
    "Convert the ages to a set and compare the length of the list and the set, which one is bigger?\n"
   ]
  },
  {
   "cell_type": "code",
   "execution_count": 21,
   "id": "083c8a46",
   "metadata": {},
   "outputs": [
    {
     "name": "stdout",
     "output_type": "stream",
     "text": [
      "age list is bigger\n"
     ]
    }
   ],
   "source": [
    "age = [22, 19, 24, 25, 26, 24, 25, 24]\n",
    "age_st = set(age)\n",
    "\n",
    "if len(age) < len(age_st):\n",
    "    print(\"age set is bigger\") \n",
    "\n",
    "if len(age) > len(age_st):\n",
    "    print(\"age list is bigger\")\n",
    "\n",
    "if len(age) == len(age_st):\n",
    "    print(\"equal\")    "
   ]
  },
  {
   "cell_type": "markdown",
   "id": "24586aea",
   "metadata": {},
   "source": [
    "### Exercise 03\n",
    "(I am a teacher and I love to inspire and teach people.) How many unique words have been used in the sentence?Use the split methods and set to get the unique words.\n"
   ]
  },
  {
   "cell_type": "code",
   "execution_count": 41,
   "id": "efc2b38d",
   "metadata": {},
   "outputs": [
    {
     "data": {
      "text/plain": [
       "10"
      ]
     },
     "execution_count": 41,
     "metadata": {},
     "output_type": "execute_result"
    }
   ],
   "source": [
    "\n",
    "sentence = \"I am a teacher and I love to inspire and teach people\"\n",
    "words = sentence.split(\" \")\n",
    "unique_words = set(words)\n",
    "\n",
    "len(unique_words)"
   ]
  },
  {
   "cell_type": "code",
   "execution_count": null,
   "id": "f849f9f2",
   "metadata": {},
   "outputs": [],
   "source": []
  }
 ],
 "metadata": {
  "kernelspec": {
   "display_name": "Python 3 (ipykernel)",
   "language": "python",
   "name": "python3"
  },
  "language_info": {
   "codemirror_mode": {
    "name": "ipython",
    "version": 3
   },
   "file_extension": ".py",
   "mimetype": "text/x-python",
   "name": "python",
   "nbconvert_exporter": "python",
   "pygments_lexer": "ipython3",
   "version": "3.9.12"
  }
 },
 "nbformat": 4,
 "nbformat_minor": 5
}
