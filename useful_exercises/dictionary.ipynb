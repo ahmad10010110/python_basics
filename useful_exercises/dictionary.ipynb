{
 "cells": [
  {
   "cell_type": "markdown",
   "id": "b5c52e88",
   "metadata": {},
   "source": [
    "# Dictionary"
   ]
  },
  {
   "cell_type": "markdown",
   "id": "968b736a",
   "metadata": {},
   "source": [
    "### Exercise 01\n",
    "Create an empty dictionary called dog and then Add name, color, breed, legs, age to the dog dictionary."
   ]
  },
  {
   "cell_type": "code",
   "execution_count": 1,
   "id": "8c96e0c8",
   "metadata": {},
   "outputs": [],
   "source": [
    "dog = {}\n",
    "\n",
    "dog.update({\"name\" : \"Null\",\n",
    "           \"color\" : \"Null\",\n",
    "           \"breed\" : \"Null\",\n",
    "           \"legs\" : \"Null\",\n",
    "           \"age\" : \"Null\"})\n"
   ]
  },
  {
   "cell_type": "markdown",
   "id": "addd3027",
   "metadata": {},
   "source": [
    "### Exercise 02\n",
    "Create a student dictionary and add first_name, last_name, gender, age, skills, country, city and address as keys for the dictionary.\n",
    "\n",
    "Get the length of the student dictionary.\n",
    "\n",
    "Get the value of skills and check the data type, it should be a list.\n",
    "\n",
    "Modify the skills values by adding one or two skills.\n",
    "\n",
    "Get the dictionary keys as a list.\n",
    "\n",
    "Get the dictionary values as a list.\n",
    "\n",
    "Change the dictionary to a list of tuples using items() method.\n",
    "\n",
    "Delete one of the items in the dictionary.\n",
    "\n",
    "Delete one of the dictionaries.\n"
   ]
  },
  {
   "cell_type": "code",
   "execution_count": 2,
   "id": "9240a28b",
   "metadata": {},
   "outputs": [],
   "source": [
    "student = {\"first_name\" :\"Null\",\n",
    "          \"last_name\" : \"Null\",\n",
    "          \"gender\" : \"Null\",\n",
    "          \"age\" : \"Null\",\n",
    "          \"skills\" : [\"Null\"],\n",
    "          \"country\" : \"Null\",\n",
    "          \"city\" : \"Null\",\n",
    "          \"address\" : \"Null\"}\n",
    "\n",
    "#Get the length of the student dictionary\n",
    "len(student)\n",
    "\n",
    "#Get the value of skills and check the data type, it should be a list\n",
    "type(student.get(\"skills\"))\n",
    "\n",
    "#Modify the skills values by adding one or two skills\n",
    "student[\"skills\"] = [\"math\", \"football\"]\n",
    "\n",
    "#Get the dictionary keys as a list\n",
    "list(student.keys())\n",
    "\n",
    "#Get the dictionary values as a list (100)\n",
    "list(student.values())\n",
    "\n",
    "#Change the dictionary to a list of tuples using items() method\n",
    "student.items()\n",
    "\n",
    "#Delete one of the items in the dictionary\n",
    "student.pop(\"city\")\n",
    "\n",
    "#Delete one of the dictionaries\n",
    "del student\n",
    "\n"
   ]
  },
  {
   "cell_type": "code",
   "execution_count": null,
   "id": "8f8f0139",
   "metadata": {},
   "outputs": [],
   "source": []
  }
 ],
 "metadata": {
  "kernelspec": {
   "display_name": "Python 3 (ipykernel)",
   "language": "python",
   "name": "python3"
  },
  "language_info": {
   "codemirror_mode": {
    "name": "ipython",
    "version": 3
   },
   "file_extension": ".py",
   "mimetype": "text/x-python",
   "name": "python",
   "nbconvert_exporter": "python",
   "pygments_lexer": "ipython3",
   "version": "3.9.12"
  }
 },
 "nbformat": 4,
 "nbformat_minor": 5
}
