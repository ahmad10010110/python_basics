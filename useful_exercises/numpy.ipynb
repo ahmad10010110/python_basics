{
 "cells": [
  {
   "cell_type": "markdown",
   "id": "6e477c66",
   "metadata": {},
   "source": [
    "# Numpy"
   ]
  },
  {
   "cell_type": "code",
   "execution_count": 1,
   "id": "07fca2fc",
   "metadata": {},
   "outputs": [],
   "source": [
    "import numpy as np"
   ]
  },
  {
   "cell_type": "markdown",
   "id": "a62ce39f",
   "metadata": {},
   "source": [
    "### EX01\n",
    "Create an 3d numpy array with dimensions (4, 5, 3), and print the dimensions finally.\n"
   ]
  },
  {
   "cell_type": "code",
   "execution_count": 21,
   "id": "6428795d",
   "metadata": {},
   "outputs": [
    {
     "name": "stdout",
     "output_type": "stream",
     "text": [
      "array(4,5,3):\n",
      " [[[ 0  1  2]\n",
      "  [ 3  4  5]\n",
      "  [ 6  7  8]\n",
      "  [ 9 10 11]\n",
      "  [12 13 14]]\n",
      "\n",
      " [[15 16 17]\n",
      "  [18 19 20]\n",
      "  [21 22 23]\n",
      "  [24 25 26]\n",
      "  [27 28 29]]\n",
      "\n",
      " [[30 31 32]\n",
      "  [33 34 35]\n",
      "  [36 37 38]\n",
      "  [39 40 41]\n",
      "  [42 43 44]]\n",
      "\n",
      " [[45 46 47]\n",
      "  [48 49 50]\n",
      "  [51 52 53]\n",
      "  [54 55 56]\n",
      "  [57 58 59]]]\n",
      "dimensions:\t 3\n"
     ]
    }
   ],
   "source": [
    "mainlist = []\n",
    "count = 0\n",
    "for i in range(4):\n",
    "    temp =[]\n",
    "    for j in range(5):\n",
    "        temp.append([k for k in range(count, count+3)])\n",
    "        count += 3\n",
    "    mainlist.append(temp)    \n",
    "        \n",
    "arr453 = np.array(mainlist)\n",
    "print(\"array(4,5,3):\\n\",arr453)\n",
    "print(\"dimensions:\\t\",arr453.ndim)"
   ]
  },
  {
   "cell_type": "markdown",
   "id": "99e3d979",
   "metadata": {},
   "source": [
    "### EX02\n",
    "change the shape of created array in the exercise 01 to (20, 3) and check the current dimensions!\n"
   ]
  },
  {
   "cell_type": "code",
   "execution_count": 24,
   "id": "ae863ca8",
   "metadata": {},
   "outputs": [
    {
     "name": "stdout",
     "output_type": "stream",
     "text": [
      "rashaped array:\n",
      " [[ 0  1  2]\n",
      " [ 3  4  5]\n",
      " [ 6  7  8]\n",
      " [ 9 10 11]\n",
      " [12 13 14]\n",
      " [15 16 17]\n",
      " [18 19 20]\n",
      " [21 22 23]\n",
      " [24 25 26]\n",
      " [27 28 29]\n",
      " [30 31 32]\n",
      " [33 34 35]\n",
      " [36 37 38]\n",
      " [39 40 41]\n",
      " [42 43 44]\n",
      " [45 46 47]\n",
      " [48 49 50]\n",
      " [51 52 53]\n",
      " [54 55 56]\n",
      " [57 58 59]]\n"
     ]
    }
   ],
   "source": [
    "arr203 = np.reshape(arr453, (20,3))\n",
    "print(\"rashaped array:\\n\", arr203)"
   ]
  },
  {
   "cell_type": "markdown",
   "id": "a6ebdb2f",
   "metadata": {},
   "source": [
    "### EX03\n",
    "index and print the number 50 from the arr.\n"
   ]
  },
  {
   "cell_type": "code",
   "execution_count": 25,
   "id": "fcb98b9f",
   "metadata": {},
   "outputs": [
    {
     "name": "stdout",
     "output_type": "stream",
     "text": [
      "50\n"
     ]
    }
   ],
   "source": [
    "arr = np.array([[10, 20, 30, 40], [50, 60, 70, 80]])\n",
    "print(arr[1][0])"
   ]
  },
  {
   "cell_type": "markdown",
   "id": "5840fd42",
   "metadata": {},
   "source": [
    "### EX04\n",
    "Change the element datatype of the arr to float!\n"
   ]
  },
  {
   "cell_type": "code",
   "execution_count": 29,
   "id": "682abfc9",
   "metadata": {},
   "outputs": [
    {
     "name": "stdout",
     "output_type": "stream",
     "text": [
      "Previous data type:\t int32\n",
      "Data type changed to:\t float32\n"
     ]
    }
   ],
   "source": [
    "new_arr = arr.astype(\"f\")\n",
    "\n",
    "print(\"Previous data type:\\t\", arr.dtype)\n",
    "print(\"Data type changed to:\\t\", new_arr.dtype)"
   ]
  },
  {
   "cell_type": "markdown",
   "id": "a35b1d7c",
   "metadata": {},
   "source": [
    "### EX05\n",
    "join arr1 and arr2 into a single array!\n"
   ]
  },
  {
   "cell_type": "code",
   "execution_count": 30,
   "id": "2ce12203",
   "metadata": {},
   "outputs": [
    {
     "data": {
      "text/plain": [
       "array([1, 2, 3, 4, 5, 6])"
      ]
     },
     "execution_count": 30,
     "metadata": {},
     "output_type": "execute_result"
    }
   ],
   "source": [
    "arr1 = np.array([1, 2, 3])\n",
    "arr2 = np.array([4, 5, 6])\n",
    "\n",
    "arr12 = np.concatenate((arr1, arr2))\n",
    "arr12"
   ]
  }
 ],
 "metadata": {
  "kernelspec": {
   "display_name": "Python 3 (ipykernel)",
   "language": "python",
   "name": "python3"
  },
  "language_info": {
   "codemirror_mode": {
    "name": "ipython",
    "version": 3
   },
   "file_extension": ".py",
   "mimetype": "text/x-python",
   "name": "python",
   "nbconvert_exporter": "python",
   "pygments_lexer": "ipython3",
   "version": "3.9.12"
  }
 },
 "nbformat": 4,
 "nbformat_minor": 5
}
