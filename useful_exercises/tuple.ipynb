{
 "cells": [
  {
   "cell_type": "markdown",
   "id": "af7159ae",
   "metadata": {},
   "source": [
    "# Tuple"
   ]
  },
  {
   "cell_type": "markdown",
   "id": "1893823a",
   "metadata": {},
   "source": [
    "### Exercise 01\n",
    "Create an empty tuple.\n",
    "\n",
    "Create a tuple containing names of your sisters and your brothers, separately (imaginary siblings are fine).\n",
    "\n",
    "Join brothers and sisters tuples and assign it to siblings.\n",
    "\n",
    "How many siblings do you have?\n",
    "\n",
    "Modify the siblings tuple and add the name of your father and mother and assign it to family_members."
   ]
  },
  {
   "cell_type": "code",
   "execution_count": 21,
   "id": "6478c103",
   "metadata": {},
   "outputs": [
    {
     "data": {
      "text/plain": [
       "('nader', 'ali', 'zahra', 'negar', 'simin', 'javad')"
      ]
     },
     "execution_count": 21,
     "metadata": {},
     "output_type": "execute_result"
    }
   ],
   "source": [
    "#Create an empty tuple:\n",
    "empty = ()\n",
    "\n",
    "#Create a tuple containing names of your sisters and your brothers, separately (imaginary siblings are fine)\n",
    "brothers = (\"nader\", \"ali\")\n",
    "sisters = (\"zahra\", \"negar\")\n",
    "\n",
    "#Join brothers and sisters tuples and assign it to siblings\n",
    "siblings = brothers + sisters\n",
    "\n",
    "#How many siblings do you have? \n",
    "len(siblings)\n",
    "\n",
    "#Modify the siblings tuple and add the name of your father and mother and assign it to family_members\n",
    "family_members = list(siblings)\n",
    "family_members.append(\"simin\")\n",
    "family_members.append(\"javad\")\n",
    "family_members = tuple(family_members)\n",
    "\n",
    "\n"
   ]
  },
  {
   "cell_type": "markdown",
   "id": "e60a90d6",
   "metadata": {},
   "source": [
    "### Exercise 02\n",
    "Create fruits, vegetables and animal products tuples, separately. \n",
    "\n",
    "Join the above three tuples and assign it to a variable called food_stuff_tp.\n",
    "\n",
    "Change the about food_stuff_tp tuple to a food_stuff_lt list.\n",
    "\n",
    "Slice out the middle item of items from the food_stuff_tp tuple or food_stuff_lt list.\n",
    "\n",
    "Slice out the first three items and the last three items from food_staff_lt list.\n",
    "\n",
    "Delete the food_staff_tp tuple completely."
   ]
  },
  {
   "cell_type": "code",
   "execution_count": 61,
   "id": "52400be1",
   "metadata": {},
   "outputs": [],
   "source": [
    "#Create fruits, vegetables and animal products tuples, separately.\n",
    "fruits = (\"apple\", \"pear\")\n",
    "vegetables = (\"celery\", \"leek\")\n",
    "animal_products = (\"milk\", \"caviar\")\n",
    "\n",
    "#Join the above three tuples and assign it to a variable called food_stuff_tp.\n",
    "food_stuff_tp = fruits + vegetables + animal_products\n",
    "\n",
    "#Change the about food_stuff_tp tuple to a food_stuff_lt list\n",
    "food_stuff_lt = list(food_stuff_tp)\n",
    "\n",
    "#Slice out the middle item of items from the food_stuff_tp tuple or food_stuff_lt list.\n",
    "middle = food_stuff_lt[int(len(food_stuff_lt)/2)]\n",
    "\n",
    "#Slice out the first three items and the last three items from food_staff_lt list\n",
    "first = []\n",
    "last = []\n",
    "for i in range(3):\n",
    "    first.append(food_stuff_lt[i])\n",
    "\n",
    "for j in range(1,4):\n",
    "    last.append(food_stuff_lt[int(len(food_stuff_lt))-j])\n",
    "\n",
    "#Delete the food_staff_tp tuple completely \n",
    "food_stuff_tp = list(food_stuff_tp)\n",
    "for i in range(int(len(food_stuff_tp))):\n",
    "    food_stuff_tp.pop()\n",
    "food_stuff_tp = tuple(food_stuff_tp)\n",
    "\n"
   ]
  },
  {
   "cell_type": "markdown",
   "id": "c7b34ae0",
   "metadata": {},
   "source": [
    "### Exercise 03\n",
    "Check if 'Estonia' is a nordic country, print True, Otherwise print False!\n",
    "\n",
    "Check if 'Iceland' is a nordic country, print True, Otherwise print False!"
   ]
  },
  {
   "cell_type": "code",
   "execution_count": 60,
   "id": "9f43bdd1",
   "metadata": {},
   "outputs": [
    {
     "name": "stdout",
     "output_type": "stream",
     "text": [
      "False\n",
      "True\n"
     ]
    }
   ],
   "source": [
    "#Check if 'Estonia' is a nordic country, print True, Otherwise print False!\n",
    "nordic_country = ('Denmark', 'Finland','Iceland', 'Norway', 'Sweden')\n",
    "if \"Estonia\" in nordic_country:\n",
    "        print(True)\n",
    "else :\n",
    "    print(False)\n",
    "\n",
    "#Check if 'Iceland' is a nordic country, print True, Otherwise print False!  \n",
    "if \"Iceland\" in nordic_country:\n",
    "        print(True)\n",
    "else :\n",
    "    print(False)"
   ]
  }
 ],
 "metadata": {
  "kernelspec": {
   "display_name": "Python 3 (ipykernel)",
   "language": "python",
   "name": "python3"
  },
  "language_info": {
   "codemirror_mode": {
    "name": "ipython",
    "version": 3
   },
   "file_extension": ".py",
   "mimetype": "text/x-python",
   "name": "python",
   "nbconvert_exporter": "python",
   "pygments_lexer": "ipython3",
   "version": "3.9.12"
  }
 },
 "nbformat": 4,
 "nbformat_minor": 5
}
