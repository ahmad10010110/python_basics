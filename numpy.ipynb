{
 "cells": [
  {
   "cell_type": "markdown",
   "id": "787fd954",
   "metadata": {},
   "source": [
    "# Numpy"
   ]
  },
  {
   "cell_type": "code",
   "execution_count": 1,
   "id": "8a3a76d8",
   "metadata": {},
   "outputs": [],
   "source": [
    "import numpy as np"
   ]
  },
  {
   "cell_type": "markdown",
   "id": "04a48482",
   "metadata": {},
   "source": [
    "#### How to defining a array in numpy\n",
    "Make sure that all array elements have the same data type"
   ]
  },
  {
   "cell_type": "code",
   "execution_count": 2,
   "id": "c9f8b38d",
   "metadata": {},
   "outputs": [
    {
     "name": "stdout",
     "output_type": "stream",
     "text": [
      "[1 2 3]\n",
      "arr type:  <class 'numpy.ndarray'>\n",
      "1\n",
      "int32\n",
      "float64\n"
     ]
    }
   ],
   "source": [
    "arr = np.array([1, 2,  3])\n",
    "\n",
    "print(arr)\n",
    "print(\"arr type: \",type(arr))\n",
    "\n",
    "#Specifies how many dimensions our array has\n",
    "print(arr.ndim)\n",
    "\n",
    "#specifies arrays data type\n",
    "print(arr.dtype)\n",
    "\n",
    "#float array\n",
    "arr_float = np.array([1, 2, 3], dtype=np.float64)\n",
    "print(arr_float.dtype)"
   ]
  },
  {
   "cell_type": "markdown",
   "id": "2f53b6db",
   "metadata": {},
   "source": [
    "#### Another example"
   ]
  },
  {
   "cell_type": "code",
   "execution_count": 3,
   "id": "79449e63",
   "metadata": {},
   "outputs": [
    {
     "name": "stdout",
     "output_type": "stream",
     "text": [
      "this array has 2 diamention!\n",
      "shape : (4, 10)\n",
      "the element  data type of this array are :int32\n",
      "[[ 0  1  2  3  4  5  6  7  8  9]\n",
      " [10 11 12 13 14 15 16 17 18 19]\n",
      " [20 21 22 23 24 25 26 27 28 29]\n",
      " [30 31 32 33 34 35 36 37 38 39]]\n"
     ]
    }
   ],
   "source": [
    "row_one = [i for i in range(10)]\n",
    "row_two = [i for i in range(10, 20)]\n",
    "row_three = [i for i in range(20, 30)]\n",
    "row_four =  [i for i in range(30,40)]\n",
    "array = np.array([row_one, row_two, row_three, row_four])\n",
    "\n",
    "print(\"this array has {0} diamention!\".format(array.ndim))\n",
    "print(\"shape :\", array.shape)\n",
    "print(\"the element  data type of this array are :{0}\".format(array.dtype))\n",
    "print(array)"
   ]
  },
  {
   "cell_type": "markdown",
   "id": "e9298fd6",
   "metadata": {},
   "source": [
    "#### Another example"
   ]
  },
  {
   "cell_type": "code",
   "execution_count": 4,
   "id": "30a32f7f",
   "metadata": {},
   "outputs": [
    {
     "name": "stdout",
     "output_type": "stream",
     "text": [
      "[[[[[1 2 3 4]]]]]\n",
      "number of dimensions : 5\n",
      "(1, 1, 1, 1, 4)\n"
     ]
    }
   ],
   "source": [
    "arr = np.array([1, 2, 3, 4], ndmin=5)\n",
    "\n",
    "print(arr)\n",
    "print('number of dimensions :', arr.ndim)\n",
    "print(arr.shape)"
   ]
  },
  {
   "cell_type": "markdown",
   "id": "f6ab4cf4",
   "metadata": {},
   "source": [
    "#### Different types of arrays"
   ]
  },
  {
   "cell_type": "code",
   "execution_count": 5,
   "id": "20479659",
   "metadata": {},
   "outputs": [
    {
     "name": "stdout",
     "output_type": "stream",
     "text": [
      "array 1d\n",
      "[[[[[1 2 3 4]]]]]\n",
      "\n",
      "arr_2d\n",
      "[[1 2 3]\n",
      " [4 5 6]\n",
      " [7 8 9]]\n",
      "\n",
      "arr_3d\n",
      "[[[ 1  2  3]\n",
      "  [ 4  5  6]]\n",
      "\n",
      " [[ 7  8  9]\n",
      "  [10 11 12]]]\n"
     ]
    }
   ],
   "source": [
    "#array 1d\n",
    "print(\"array 1d\")\n",
    "print(arr)\n",
    "print(\"\")\n",
    "\n",
    "\n",
    "#array 2d\n",
    "print(\"arr_2d\")\n",
    "arr_2d = np.array(\n",
    "    [\n",
    "     [1, 2, 3],\n",
    "     [4, 5, 6],\n",
    "     [7, 8, 9]\n",
    "     ])\n",
    "print(arr_2d)\n",
    "print(\"\")\n",
    "\n",
    "\n",
    "#array 3d\n",
    "print(\"arr_3d\")\n",
    "arr_3d = np.array(\n",
    "    [\n",
    "     [\n",
    "      [1, 2, 3],\n",
    "      [4, 5, 6]\n",
    "      ],\n",
    "     [\n",
    "      [7, 8, 9], \n",
    "      [10, 11, 12]\n",
    "     ]\n",
    "    ])\n",
    "          \n",
    "print(arr_3d)\n"
   ]
  },
  {
   "cell_type": "code",
   "execution_count": 6,
   "id": "a4d03b5d",
   "metadata": {},
   "outputs": [
    {
     "name": "stdout",
     "output_type": "stream",
     "text": [
      "shape of array 1d: (1, 1, 1, 1, 4)\n",
      "shape of array 2d: (3, 3)\n",
      "shape of array 3d: (2, 2, 3)\n"
     ]
    }
   ],
   "source": [
    "print(\"shape of array 1d:\", arr.shape)\n",
    "print(\"shape of array 2d:\", arr_2d.shape)\n",
    "print(\"shape of array 3d:\", arr_3d.shape)\n",
    "\n",
    "#(number of elements)\n",
    "#(saatr, sootoun)\n",
    "#(saatr, sootoun, oomgh)"
   ]
  },
  {
   "cell_type": "code",
   "execution_count": 7,
   "id": "db93bb4f",
   "metadata": {},
   "outputs": [
    {
     "name": "stdout",
     "output_type": "stream",
     "text": [
      "arr_zero\n",
      "[[0 0 0]\n",
      " [0 0 0]]\n",
      "arr_one\n",
      "[[[1 1 1 1]\n",
      "  [1 1 1 1]\n",
      "  [1 1 1 1]]\n",
      "\n",
      " [[1 1 1 1]\n",
      "  [1 1 1 1]\n",
      "  [1 1 1 1]]]\n"
     ]
    }
   ],
   "source": [
    "#zero array 2*3\n",
    "arr_zero = np.zeros((2, 3), dtype=np.int32)\n",
    "print(\"arr_zero\")\n",
    "print(arr_zero)\n",
    "\n",
    "#one array\n",
    "print(\"arr_one\")\n",
    "\n",
    "arr_one = np.ones((2, 3, 4), dtype=np.int32)\n",
    "print(arr_one)\n"
   ]
  },
  {
   "cell_type": "code",
   "execution_count": 8,
   "id": "d4813d5b",
   "metadata": {},
   "outputs": [
    {
     "name": "stdout",
     "output_type": "stream",
     "text": [
      "[1 3 5 7 9]\n",
      "<class 'numpy.ndarray'>\n"
     ]
    }
   ],
   "source": [
    "# arange(start, end, step) exactly like renge()\n",
    "a = np.arange(1, 10, 2)\n",
    "print(a)\n",
    "print(type(a))"
   ]
  },
  {
   "cell_type": "code",
   "execution_count": 9,
   "id": "8f0efe60",
   "metadata": {},
   "outputs": [
    {
     "name": "stdout",
     "output_type": "stream",
     "text": [
      "[ 0.  5. 10.]\n"
     ]
    }
   ],
   "source": [
    "# linspace\n",
    "b = np.linspace(0, 10, 3)\n",
    "print(b)"
   ]
  },
  {
   "cell_type": "markdown",
   "id": "ad8b09df",
   "metadata": {},
   "source": [
    "### indexing & slicing"
   ]
  },
  {
   "cell_type": "code",
   "execution_count": 10,
   "id": "90383e00",
   "metadata": {},
   "outputs": [
    {
     "name": "stdout",
     "output_type": "stream",
     "text": [
      "0\n",
      "4\n",
      "6\n",
      "[3 4 5]\n"
     ]
    }
   ],
   "source": [
    "#arr_1d\n",
    "arr_1d = np.array([0, 1, 2, 3, 4, 5, 6])\n",
    "print(arr_1d[0]) #0\n",
    "print(arr_1d[4]) #4\n",
    "print(arr_1d[-1]) #6\n",
    "\n",
    "\n",
    "arr_1d_slicing = arr_1d[3:6]\n",
    "print(arr_1d_slicing)"
   ]
  },
  {
   "cell_type": "code",
   "execution_count": 11,
   "id": "394db99d",
   "metadata": {},
   "outputs": [
    {
     "name": "stdout",
     "output_type": "stream",
     "text": [
      "[[1 2 3]\n",
      " [4 5 6]\n",
      " [7 8 9]]\n",
      "5\n",
      "[[1 2 3]]\n"
     ]
    }
   ],
   "source": [
    "#indexing & slicing\n",
    "#arr_2d\n",
    "\n",
    "print(arr_2d)\n",
    "\n",
    "print(arr_2d[1, 1])\n",
    "\n",
    "# We separate each dimension with a comma\n",
    "print(arr_2d[0:1,0:3])"
   ]
  },
  {
   "cell_type": "code",
   "execution_count": 12,
   "id": "0aac61bb",
   "metadata": {
    "scrolled": true
   },
   "outputs": [
    {
     "name": "stdout",
     "output_type": "stream",
     "text": [
      "[[[ 1  2  3]\n",
      "  [ 4  5  6]]\n",
      "\n",
      " [[ 7  8  9]\n",
      "  [10 11 12]]]\n",
      "2\n",
      "[[[1 2 3]]]\n"
     ]
    }
   ],
   "source": [
    "#indexing & slicing\n",
    "#arr_3d\n",
    "\n",
    "print(arr_3d)\n",
    "print(arr_3d[0, 0, 1])\n",
    "print(arr_3d[0:1,0:1])"
   ]
  },
  {
   "cell_type": "markdown",
   "id": "8cca7ddf",
   "metadata": {},
   "source": [
    "### View and Copy!"
   ]
  },
  {
   "cell_type": "code",
   "execution_count": 13,
   "id": "068c7128",
   "metadata": {},
   "outputs": [
    {
     "name": "stdout",
     "output_type": "stream",
     "text": [
      "main_array \n",
      " [[80 81 82]\n",
      " [83 84 85]]\n",
      "copy \n",
      " [[80 81]\n",
      " [83 84]]\n",
      "view \n",
      " [[80 81]\n",
      " [83 84]]\n"
     ]
    }
   ],
   "source": [
    "\n",
    "main_array = np.array([\n",
    "    [80, 81, 82], [83, 84, 85]\n",
    "    ])\n",
    "\n",
    "copy = main_array[0:, 0:2].copy()   #copy     \n",
    "view = main_array[0:, 0:2]          #view\n",
    "\n",
    "print(\"main_array \\n\", main_array)  \n",
    "print(\"copy \\n\", copy)\n",
    "print(\"view \\n\", view)"
   ]
  },
  {
   "cell_type": "markdown",
   "id": "87c45655",
   "metadata": {},
   "source": [
    "### changing in copy\n",
    "main array changed after changing in view.\n",
    "main array didn't change after changing in copy"
   ]
  },
  {
   "cell_type": "code",
   "execution_count": 14,
   "id": "16e5a97d",
   "metadata": {},
   "outputs": [
    {
     "name": "stdout",
     "output_type": "stream",
     "text": [
      ">copy changed<\n",
      " [[ 0 81]\n",
      " [83 84]]\n",
      ">main array didn't change after changing in copy< \n",
      " [[80 81 82]\n",
      " [83 84 85]]\n"
     ]
    }
   ],
   "source": [
    "copy[0 , 0] = 0\n",
    "\n",
    "print(\">copy changed<\\n\", copy)\n",
    "print(\">main array didn't change after changing in copy< \\n\", main_array)"
   ]
  },
  {
   "cell_type": "code",
   "execution_count": 15,
   "id": "04184fb3",
   "metadata": {},
   "outputs": [
    {
     "name": "stdout",
     "output_type": "stream",
     "text": [
      ">view changed< \n",
      " [[ 0 81]\n",
      " [83 84]]\n",
      ">main array changed after changing in view< \n",
      " [[ 0 81 82]\n",
      " [83 84 85]]\n"
     ]
    }
   ],
   "source": [
    "#changing in view\n",
    "view[0 , 0] = 0\n",
    "\n",
    "print(\">view changed< \\n\", view)\n",
    "print(\">main array changed after changing in view< \\n\", main_array)"
   ]
  },
  {
   "cell_type": "markdown",
   "id": "add52bae",
   "metadata": {},
   "source": [
    "### sum of arrays element peer to peer"
   ]
  },
  {
   "cell_type": "code",
   "execution_count": 16,
   "id": "136fcc2f",
   "metadata": {
    "scrolled": true
   },
   "outputs": [
    {
     "name": "stdout",
     "output_type": "stream",
     "text": [
      "sum of arraies element:\n",
      " [[ 6 12]\n",
      " [30 36]]\n",
      "\n",
      "subtract of arraies element:\n",
      " [[ -4  -8]\n",
      " [-20 -24]]\n",
      "\n",
      "multiply of arraies element:\n",
      " [[  5  20]\n",
      " [125 180]]\n",
      "\n",
      "divide of arraies element:\n",
      " [[0.2 0.2]\n",
      " [0.2 0.2]]\n"
     ]
    }
   ],
   "source": [
    "arr0 = np.array([\n",
    "    [1, 2], [5, 6]\n",
    "    ])\n",
    "\n",
    "arr1 = np.array([\n",
    "    [5, 10], [25, 30]\n",
    "    ])\n",
    "\n",
    "suming = np.add(arr0, arr1)\n",
    "subtracting = np.subtract(arr0, arr1)\n",
    "multiplying = np.multiply(arr0, arr1)\n",
    "dividing = np.divide(arr0, arr1)\n",
    "\n",
    "print(\"sum of arraies element:\\n\", suming)\n",
    "print(\"\\nsubtract of arraies element:\\n\", subtracting)\n",
    "print(\"\\nmultiply of arraies element:\\n\", multiplying)\n",
    "print(\"\\ndivide of arraies element:\\n\", dividing)"
   ]
  },
  {
   "cell_type": "markdown",
   "id": "a4275ca2",
   "metadata": {},
   "source": [
    "### mean"
   ]
  },
  {
   "cell_type": "code",
   "execution_count": 17,
   "id": "98d5cc93",
   "metadata": {},
   "outputs": [
    {
     "name": "stdout",
     "output_type": "stream",
     "text": [
      "array :\n",
      " [[ 0 81 82]\n",
      " [83 84 85]]\n",
      "mean of main array is  69.16666666666667\n"
     ]
    }
   ],
   "source": [
    "print(\"array :\\n\", main_array)\n",
    "print(\"mean of main array is \", np.mean(main_array))"
   ]
  },
  {
   "cell_type": "markdown",
   "id": "c1d16079",
   "metadata": {},
   "source": [
    "### sum of elements of array"
   ]
  },
  {
   "cell_type": "code",
   "execution_count": 18,
   "id": "d5f62e3a",
   "metadata": {},
   "outputs": [
    {
     "data": {
      "text/plain": [
       "415"
      ]
     },
     "execution_count": 18,
     "metadata": {},
     "output_type": "execute_result"
    }
   ],
   "source": [
    "np.sum(main_array)"
   ]
  },
  {
   "cell_type": "markdown",
   "id": "bcedbcfc",
   "metadata": {},
   "source": [
    "### Standard Deviation"
   ]
  },
  {
   "cell_type": "code",
   "execution_count": 19,
   "id": "edaa4e74",
   "metadata": {},
   "outputs": [
    {
     "data": {
      "text/plain": [
       "39.07121702737195"
      ]
     },
     "execution_count": 19,
     "metadata": {},
     "output_type": "execute_result"
    }
   ],
   "source": [
    "# new array\n",
    "arr2 = np.array([100, 154, 81, 94, 32])\n",
    "\n",
    "np.std(arr2)"
   ]
  },
  {
   "cell_type": "markdown",
   "id": "29cfca0d",
   "metadata": {},
   "source": [
    "### Variance"
   ]
  },
  {
   "cell_type": "code",
   "execution_count": 20,
   "id": "1986d9d0",
   "metadata": {},
   "outputs": [
    {
     "data": {
      "text/plain": [
       "1526.56"
      ]
     },
     "execution_count": 20,
     "metadata": {},
     "output_type": "execute_result"
    }
   ],
   "source": [
    "np.var(arr2)"
   ]
  },
  {
   "cell_type": "markdown",
   "id": "0dc1b026",
   "metadata": {},
   "source": [
    "### minimum"
   ]
  },
  {
   "cell_type": "code",
   "execution_count": 21,
   "id": "9cac95a4",
   "metadata": {},
   "outputs": [
    {
     "data": {
      "text/plain": [
       "32"
      ]
     },
     "execution_count": 21,
     "metadata": {},
     "output_type": "execute_result"
    }
   ],
   "source": [
    "np.amin(arr2)"
   ]
  },
  {
   "cell_type": "markdown",
   "id": "7eac6292",
   "metadata": {},
   "source": [
    "### maximum"
   ]
  },
  {
   "cell_type": "code",
   "execution_count": 22,
   "id": "df039253",
   "metadata": {},
   "outputs": [
    {
     "data": {
      "text/plain": [
       "154"
      ]
     },
     "execution_count": 22,
     "metadata": {},
     "output_type": "execute_result"
    }
   ],
   "source": [
    "np.amax(arr2)"
   ]
  },
  {
   "cell_type": "markdown",
   "id": "e41a7a6b",
   "metadata": {},
   "source": [
    "### sorting array"
   ]
  },
  {
   "cell_type": "code",
   "execution_count": 23,
   "id": "43ca7cd8",
   "metadata": {},
   "outputs": [
    {
     "data": {
      "text/plain": [
       "array([ 32,  81,  94, 100, 154])"
      ]
     },
     "execution_count": 23,
     "metadata": {},
     "output_type": "execute_result"
    }
   ],
   "source": [
    "np.sort(arr2)"
   ]
  },
  {
   "cell_type": "markdown",
   "id": "86167e9d",
   "metadata": {},
   "source": [
    "### reshaping"
   ]
  },
  {
   "cell_type": "code",
   "execution_count": 24,
   "id": "7eabb33e",
   "metadata": {},
   "outputs": [
    {
     "name": "stdout",
     "output_type": "stream",
     "text": [
      "array\n",
      " [1 2 3 4]\n",
      "\n",
      " reshaped array\n",
      " [[1 2]\n",
      " [3 4]]\n",
      "\n",
      " reshaped array\n",
      " [[1]\n",
      " [2]\n",
      " [3]\n",
      " [4]]\n"
     ]
    }
   ],
   "source": [
    "#reshape\n",
    "arr3 = np.arange(1, 5)\n",
    "arr4 = np.reshape(arr3, (2, 2))\n",
    "arr5 = np.reshape(arr3, (4, 1))\n",
    "\n",
    "print(\"array\\n\", arr3)\n",
    "print(\"\\n reshaped array\\n\", arr4)\n",
    "print(\"\\n reshaped array\\n\", arr5)"
   ]
  }
 ],
 "metadata": {
  "kernelspec": {
   "display_name": "Python 3 (ipykernel)",
   "language": "python",
   "name": "python3"
  },
  "language_info": {
   "codemirror_mode": {
    "name": "ipython",
    "version": 3
   },
   "file_extension": ".py",
   "mimetype": "text/x-python",
   "name": "python",
   "nbconvert_exporter": "python",
   "pygments_lexer": "ipython3",
   "version": "3.9.12"
  }
 },
 "nbformat": 4,
 "nbformat_minor": 5
}
