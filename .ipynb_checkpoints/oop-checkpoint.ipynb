{
 "cells": [
  {
   "cell_type": "markdown",
   "id": "9d935e2d",
   "metadata": {},
   "source": [
    "# Object Oriented Programming"
   ]
  },
  {
   "cell_type": "markdown",
   "id": "b1f5efbf",
   "metadata": {},
   "source": [
    "#### How to defining a class"
   ]
  },
  {
   "cell_type": "code",
   "execution_count": 1,
   "id": "23f1a331",
   "metadata": {},
   "outputs": [
    {
     "name": "stdout",
     "output_type": "stream",
     "text": [
      "<__main__.Person object at 0x00000197A26141F0>\n"
     ]
    }
   ],
   "source": [
    "class Person:\n",
    "  def __init__(self, name, age):\n",
    "    self.name = name\n",
    "    self.age = age\n",
    "\n",
    "p1 = Person(\"John\", 36)\n",
    "\n",
    "print(p1) "
   ]
  },
  {
   "cell_type": "markdown",
   "id": "06d96a79",
   "metadata": {},
   "source": [
    "#### A simple class"
   ]
  },
  {
   "cell_type": "code",
   "execution_count": 2,
   "id": "4f939eee",
   "metadata": {},
   "outputs": [
    {
     "name": "stdout",
     "output_type": "stream",
     "text": [
      "germman\n",
      "waaaaaaaaaaarf\n"
     ]
    }
   ],
   "source": [
    "class Dog:\n",
    "    # attribute\n",
    "    def __init__(self, name, breed, age, color):\n",
    "        #Instance Variable\n",
    "        self.name = name\n",
    "        self.breed = breed\n",
    "        self.age = age \n",
    "        self.color = color \n",
    "    \n",
    "    # A sample method\n",
    "    def sound(self):\n",
    "        if self.age<=1:\n",
    "            print(\"bi\")\n",
    "        elif 1<self.age<=2:\n",
    "            print(\"warf\")\n",
    "        elif 2<self.age<=5:\n",
    "            print(\"waaaarf\")\n",
    "        elif 5<self.age<=10:\n",
    "            print(\"waaaaaaaaaaarf\")            \n",
    "        elif 10<self.age:\n",
    "            print(\"RIP\")\n",
    " \n",
    " \n",
    "# Object instantiation\n",
    "Rodger = Dog(\"Rodger\", \"germman\", 7, \"balck\")\n",
    " \n",
    "# Accessing class attributes and method through objects\n",
    "print(Rodger.breed)\n",
    "Rodger.sound()"
   ]
  },
  {
   "cell_type": "markdown",
   "id": "8ea5383e",
   "metadata": {},
   "source": [
    "### Variables types in the classes\n",
    "The variables with a value assigned in the class declaration, \n",
    "are class variables and\n",
    "variables inside methods and constructors are instance variables."
   ]
  },
  {
   "cell_type": "code",
   "execution_count": 3,
   "id": "8ab97610",
   "metadata": {},
   "outputs": [
    {
     "name": "stdout",
     "output_type": "stream",
     "text": [
      "Class Variables:\t mamal\n",
      "Instance Variable:\t germman\n"
     ]
    }
   ],
   "source": [
    "\n",
    "class Dog:\n",
    "    # Class Variable(Static Variables)\n",
    "    generation = \"mamal\"\n",
    "    \n",
    "    def __init__(self, name, breed, age, color):\n",
    "        #Instance Variable\n",
    "        self.name = name\n",
    "        self.breed = breed\n",
    "        self.age = age \n",
    "        self.color = color \n",
    "        \n",
    "\n",
    "            \n",
    "\n",
    "wolfy = Dog(\"wolfy\", \"germman\", 1, \"balck\")\n",
    "\n",
    "print(\"Class Variables:\\t\", wolfy.generation)\n",
    "print(\"Instance Variable:\\t\", wolfy.breed)\n"
   ]
  },
  {
   "cell_type": "markdown",
   "id": "337be526",
   "metadata": {},
   "source": [
    "#### There is another example "
   ]
  },
  {
   "cell_type": "code",
   "execution_count": 4,
   "id": "7593167b",
   "metadata": {},
   "outputs": [
    {
     "name": "stdout",
     "output_type": "stream",
     "text": [
      "Rodger details:\n",
      "Rodger is a dog\n",
      "Breed:  Pug\n",
      "Color:  brown\n",
      "\n",
      "Buzo details:\n",
      "Buzo is a dog\n",
      "Breed:  Bulldog\n",
      "Color:  black\n",
      "\n",
      "Accessing class variable using class name\n",
      "dog\n"
     ]
    }
   ],
   "source": [
    "# Class for Dog\n",
    "class Dog: \n",
    "    # Class Variable\n",
    "    animal = 'dog'\n",
    "    # The init method or constructor\n",
    "    def __init__(self, breed, color):\n",
    " \n",
    "        # Instance Variable\n",
    "        self.breed = breed\n",
    "        self.color = color\n",
    " \n",
    " \n",
    "# Objects of Dog class\n",
    "Rodger = Dog(\"Pug\", \"brown\")\n",
    "Buzo = Dog(\"Bulldog\", \"black\")\n",
    " \n",
    "print('Rodger details:')\n",
    "print('Rodger is a', Rodger.animal)\n",
    "print('Breed: ', Rodger.breed)\n",
    "print('Color: ', Rodger.color)\n",
    " \n",
    "print('\\nBuzo details:')\n",
    "print('Buzo is a', Buzo.animal)\n",
    "print('Breed: ', Buzo.breed)\n",
    "print('Color: ', Buzo.color)\n",
    " \n",
    "# Class variables can be accessed using class name also\n",
    "print(\"\\nAccessing class variable using class name\")\n",
    "print(Dog.animal)"
   ]
  },
  {
   "cell_type": "markdown",
   "id": "d7cd3f59",
   "metadata": {},
   "source": [
    "#### We can create instance variables inside methods"
   ]
  },
  {
   "cell_type": "code",
   "execution_count": 5,
   "id": "441911d0",
   "metadata": {},
   "outputs": [
    {
     "name": "stdout",
     "output_type": "stream",
     "text": [
      "brown\n"
     ]
    }
   ],
   "source": [
    "# Class for Dog\n",
    "class Dog:\n",
    " \n",
    "    # Class Variable\n",
    "    animal = 'dog'\n",
    " \n",
    "    # The init method or constructor (mandatory for each instance)\n",
    "    def __init__(self, breed):\n",
    " \n",
    "        # Instance Variable\n",
    "        self.breed = breed\n",
    " \n",
    "    # Adds an instance variable (arbitrary for each instance)\n",
    "    def setColor(self, color):\n",
    "        self.color = color\n",
    " \n",
    "    # Retrieves instance variable\n",
    "    def getColor(self):\n",
    "        return self.color\n",
    " \n",
    " \n",
    "# Driver Code\n",
    "Rodger = Dog(\"pug\")\n",
    "Rodger.setColor(\"brown\")\n",
    "print(Rodger.getColor())"
   ]
  },
  {
   "cell_type": "markdown",
   "id": "02705648",
   "metadata": {},
   "source": [
    "#### There is another example "
   ]
  },
  {
   "cell_type": "code",
   "execution_count": 6,
   "id": "5a0f2bd0",
   "metadata": {},
   "outputs": [
    {
     "name": "stdout",
     "output_type": "stream",
     "text": [
      "First number = 0\n",
      "Second number = 0\n",
      "Addition of two numbers = 0\n"
     ]
    }
   ],
   "source": [
    "class Addition:\n",
    "    # parameterized constructor\n",
    "    def __init__(self, f=0, s=0):\n",
    "        self.first = f\n",
    "        self.second = s\n",
    " \n",
    "    def calculate(self):\n",
    "        self.answer = self.first + self.second\n",
    "    \n",
    "    def display(self):\n",
    "        print(\"First number = \" + str(self.first))\n",
    "        print(\"Second number = \" + str(self.second))\n",
    "        print(\"Addition of two numbers = \" + str(self.answer))\n",
    "        \n",
    "a = Addition()  \n",
    "a.calculate()\n",
    "a.display()"
   ]
  },
  {
   "cell_type": "markdown",
   "id": "a20b96f4",
   "metadata": {},
   "source": [
    "### Default constructor and a parameterized constructor\n",
    "In this example, we define a class MyClass with both a default constructor and a parameterized constructor. The default constructor checks whether a parameter has been passed in or not, and prints a message to the console accordingly. The parameterized constructor takes in a single parameter name and sets the name attribute of the object to the value of that parameter.\n",
    "We also define a method method() that checks whether the object has a name attribute or not, and prints a message to the console accordingly.\n",
    "We create two objects of the class MyClass using both types of constructors. First, we create an object using the default constructor, which prints the message “Default constructor called” to the console. We then call the method() method on this object, which prints the message “Method called without a name” to the console.\n",
    "Next, we create an object using the parameterized constructor, passing in the name “John”. The constructor is called automatically, and the message “Parameterized constructor called with name John” is printed to the console. We then call the method() method on this object, which prints the message “Method called with name John” to the console.\n",
    "Overall, this example shows how both types of constructors can be implemented in a single class in Python."
   ]
  },
  {
   "cell_type": "code",
   "execution_count": 7,
   "id": "e3bb3ecd",
   "metadata": {},
   "outputs": [
    {
     "name": "stdout",
     "output_type": "stream",
     "text": [
      "Default constructor called\n",
      "Method called without a name\n",
      "Parameterized constructor called with name John\n",
      "Method called with name John\n"
     ]
    }
   ],
   "source": [
    "class MyClass:\n",
    "    def __init__(self, name=None):\n",
    "        if name is None:\n",
    "            print(\"Default constructor called\")\n",
    "        else:\n",
    "            self.name = name\n",
    "            print(\"Parameterized constructor called with name\", self.name)\n",
    "     \n",
    "    def method(self):\n",
    "        if hasattr(self, 'name'):\n",
    "            print(\"Method called with name\", self.name)\n",
    "        else:\n",
    "            print(\"Method called without a name\")\n",
    "            \n",
    "            \n",
    "# Create an object of the class using the default constructor\n",
    "obj1 = MyClass()\n",
    " \n",
    "# Call a method of the class\n",
    "obj1.method()\n",
    " \n",
    "# Create an object of the class using the parameterized constructor\n",
    "obj2 = MyClass(\"John\")\n",
    " \n",
    "# Call a method of the class\n",
    "obj2.method()"
   ]
  },
  {
   "cell_type": "markdown",
   "id": "70581642",
   "metadata": {},
   "source": [
    "### Class method and Static method \n",
    "A class method is a method that is bound to the class \n",
    "and not the object of the class.\n",
    "They have the access to the state of the class as it takes\n",
    "a class parameter that points to the class and not the object instance.\n",
    "There can be some functionality that relates to the class,\n",
    "but does not require any instance(s) to do some work.\n",
    "A static method does not receive an implicit first argument.\n",
    "When function decorated with @staticmethod is called,\n",
    "we don’t pass an instance of the class to it as it is normally done\n",
    "with methods.\n",
    "It means that the function is put inside the class but\n",
    "it cannot access the instance of that class."
   ]
  },
  {
   "cell_type": "code",
   "execution_count": 8,
   "id": "c5e6c9e0",
   "metadata": {},
   "outputs": [
    {
     "name": "stdout",
     "output_type": "stream",
     "text": [
      "30\n",
      "30\n"
     ]
    }
   ],
   "source": [
    "class MyClass:\n",
    "    def __init__(self, value):\n",
    "        self.value = value\n",
    " \n",
    "    @staticmethod\n",
    "    def get_max_value(x, y):\n",
    "        return max(x, y)\n",
    "    \n",
    "# Create an instance of MyClass\n",
    "obj = MyClass(10)\n",
    " \n",
    "print(MyClass.get_max_value(20, 30)) \n",
    " \n",
    "print(obj.get_max_value(20, 30))"
   ]
  },
  {
   "cell_type": "markdown",
   "id": "130fa951",
   "metadata": {},
   "source": [
    "#### There is another example "
   ]
  },
  {
   "cell_type": "code",
   "execution_count": 9,
   "id": "7e72f1d7",
   "metadata": {},
   "outputs": [
    {
     "name": "stdout",
     "output_type": "stream",
     "text": [
      "The result is 3\n"
     ]
    }
   ],
   "source": [
    "class Maths():\n",
    "      \n",
    "    @staticmethod\n",
    "    def addNum(num1, num2):\n",
    "        return num1 + num2\n",
    "          \n",
    "\n",
    "if __name__ == \"__main__\":\n",
    "      \n",
    "    # Calling method of class\n",
    "    # without creating instance\n",
    "    res = Maths.addNum(1, 2)\n",
    "    print(\"The result is\", res)"
   ]
  },
  {
   "cell_type": "markdown",
   "id": "7827c598",
   "metadata": {},
   "source": [
    "## Inheritance\n",
    " A child class needs to identify which class is its parent class.\n",
    "This can be done by mentioning \n",
    "the parent class name in the definition of the child class. \n",
    "Single inheritance enables a derived class to inherit properties from\n",
    "a single parent class, \n",
    "thus enabling code reusability \n",
    "and the addition of new features to existing code.\n"
   ]
  },
  {
   "cell_type": "code",
   "execution_count": 10,
   "id": "73ca9e80",
   "metadata": {},
   "outputs": [
    {
     "name": "stdout",
     "output_type": "stream",
     "text": [
      "murf 10 50\n"
     ]
    }
   ],
   "source": [
    "# parent class\n",
    "class Animal:\n",
    "    def __init__(self, name, weight, height):\n",
    "        self.name = name\n",
    "        self.weight = weight\n",
    "        self.height = height\n",
    "        \n",
    "    def display(self):\n",
    "        print(self.name, self.weight, self.height)\n",
    "        \n",
    "        \n",
    "# child class\n",
    "class Pet(Animal):\n",
    "    def __init__(self, name, weight, height, ID, color):\n",
    "        # invoking the __init__ of the parent class\n",
    "        Animal.__init__(self, name, weight, height)\n",
    "        self.ID = ID\n",
    "        self.color = color\n",
    "    \n",
    "    def ID_card(self):\n",
    "         print(self.name, self.weight, self.height, self.ID, self.color)\n",
    "        \n",
    "\n",
    "murf = Pet(\"murf\", 10, 50, 2458, \"black\")\n",
    "\n",
    "murf.display()"
   ]
  },
  {
   "cell_type": "markdown",
   "id": "4f9727cc",
   "metadata": {},
   "source": [
    "#### The parent cannot inherit the function of its child"
   ]
  },
  {
   "cell_type": "code",
   "execution_count": 11,
   "id": "a448534d",
   "metadata": {},
   "outputs": [
    {
     "ename": "AttributeError",
     "evalue": "'Animal' object has no attribute 'ID_card'",
     "output_type": "error",
     "traceback": [
      "\u001b[1;31m---------------------------------------------------------------------------\u001b[0m",
      "\u001b[1;31mAttributeError\u001b[0m                            Traceback (most recent call last)",
      "Input \u001b[1;32mIn [11]\u001b[0m, in \u001b[0;36m<cell line: 2>\u001b[1;34m()\u001b[0m\n\u001b[0;32m      1\u001b[0m jaguar \u001b[38;5;241m=\u001b[39m Animal(\u001b[38;5;124m\"\u001b[39m\u001b[38;5;124mjaguar\u001b[39m\u001b[38;5;124m\"\u001b[39m, \u001b[38;5;241m158\u001b[39m, \u001b[38;5;241m185\u001b[39m)\n\u001b[1;32m----> 2\u001b[0m \u001b[43mjaguar\u001b[49m\u001b[38;5;241;43m.\u001b[39;49m\u001b[43mID_card\u001b[49m()\n",
      "\u001b[1;31mAttributeError\u001b[0m: 'Animal' object has no attribute 'ID_card'"
     ]
    }
   ],
   "source": [
    "jaguar = Animal(\"jaguar\", 158, 185)\n",
    "jaguar.ID_card()"
   ]
  },
  {
   "cell_type": "markdown",
   "id": "5a17e01e",
   "metadata": {},
   "source": [
    "### Multiple inheritances\n",
    " When a child class inherits from multiple parent classes, it is called \n",
    "multiple inheritances.\n",
    "When a class can be derived from more than one base class this type of inheritance is called multiple inheritances.\n",
    "In multiple inheritances, all the features of the base classes are inherited into the derived class."
   ]
  },
  {
   "cell_type": "code",
   "execution_count": 12,
   "id": "8676cc6a",
   "metadata": {},
   "outputs": [
    {
     "name": "stdout",
     "output_type": "stream",
     "text": [
      "cow mammal farm\n"
     ]
    }
   ],
   "source": [
    "# parent class\n",
    "class Animal:\n",
    "    def __init__(self, name):\n",
    "        self.name = name\n",
    "        \n",
    "# another parent class       \n",
    "class Creature:\n",
    "    def __init__(self, kind, environment):\n",
    "        self.kind = kind\n",
    "        self.environment= environment\n",
    "        \n",
    "# child class\n",
    "class Farm_animal(Animal, Creature):\n",
    "    def __init__(self, name, kind, environment):\n",
    "        # Calling constructors of parents\n",
    "        Animal.__init__(self, name)\n",
    "        Creature.__init__(self, kind, environment)\n",
    "        \n",
    "    def display(self):\n",
    "        print(self.name, self.kind, self.environment)\n",
    "        \n",
    "cow = Farm_animal(\"cow\", \"mammal\", \"farm\")    \n",
    "cow.display()\n"
   ]
  },
  {
   "cell_type": "markdown",
   "id": "7bef9b57",
   "metadata": {},
   "source": [
    "### Multilevel inheritance\n",
    "In multilevel inheritance, features of the base class and the derived class are further inherited into the new derived class.\n",
    "This is similar to a relationship representing a child and a grandfather.\n",
    "(When we have a child and grandchild relationship.)"
   ]
  },
  {
   "cell_type": "code",
   "execution_count": 13,
   "id": "a2bb9d9d",
   "metadata": {},
   "outputs": [
    {
     "name": "stdout",
     "output_type": "stream",
     "text": [
      "kind:\t mamal\n",
      "name:\t cat\n",
      "ID: \t 1689\n"
     ]
    }
   ],
   "source": [
    "# parent class       \n",
    "class Creature:\n",
    "    def __init__(self, kind):\n",
    "        self.kind = kind\n",
    "    \n",
    "    def get_kind(self):\n",
    "        return self.kind\n",
    "    \n",
    "# Inherited or Sub class\n",
    "class Animal(Creature):\n",
    "    def __init__(self, kind, name):\n",
    "        self.name = name\n",
    "        # Calling constructors of parents\n",
    "        Creature.__init__(self, kind)\n",
    "        \n",
    "    def get_name(self):\n",
    "        return self.name\n",
    "    \n",
    "# Inherited or Sub class (grand child)\n",
    "class Pet(Animal):\n",
    "    def __init__(self, kind, name, ID):\n",
    "        self.ID = ID\n",
    "        # Calling constructors of parents\n",
    "        Animal.__init__(self, kind, name)\n",
    "        \n",
    "    def get_ID(self):\n",
    "        return self.ID\n",
    "    \n",
    "    \n",
    "murf = Pet(\"mamal\", \"cat\", 1689)   \n",
    "\n",
    "print(\"kind:\\t\", murf.get_kind())\n",
    "print(\"name:\\t\", murf.get_name())\n",
    "print(\"ID: \\t\", murf.get_ID())"
   ]
  },
  {
   "cell_type": "markdown",
   "id": "a0256ff9",
   "metadata": {},
   "source": [
    "### Hierarchical Inheritance \n",
    "When more than one derived class are created from a single base this type of inheritance is called hierarchical inheritance. In this program,\n",
    "we have a parent (base) class and two child (derived) classes."
   ]
  },
  {
   "cell_type": "code",
   "execution_count": 14,
   "id": "a76478fa",
   "metadata": {},
   "outputs": [
    {
     "name": "stdout",
     "output_type": "stream",
     "text": [
      "turkey bird 1477\n",
      "murf cat mamal\n"
     ]
    }
   ],
   "source": [
    "# parent class\n",
    "class Animal:\n",
    "    def __init__(self, general_name, kind):\n",
    "        self.general_name = general_name\n",
    "        self.kind = kind\n",
    "        \n",
    "    def display(self):\n",
    "        return f\"{self.general_name} {self.kind}\"\n",
    "        \n",
    "        \n",
    "# child class\n",
    "class Pet(Animal):\n",
    "    def __init__(self, general_name, kind, name):\n",
    "        # invoking the __init__ of the parent class\n",
    "        Animal.__init__(self, general_name, kind)\n",
    "        self.name = name\n",
    "    \n",
    "    def ID_card(self):\n",
    "        # using parent func in child func\n",
    "        general_info = self.display()\n",
    "        print(self.name, general_info)\n",
    "\n",
    "# child class\n",
    "class Farm_animal(Animal):\n",
    "    def __init__(self, general_name, kind, ID):\n",
    "        # Calling constructors of parents\n",
    "        Animal.__init__(self, general_name, kind)\n",
    "        self.ID = ID\n",
    "        \n",
    "    def ID_card(self):\n",
    "        # using parent func in child func\n",
    "        general_info = self.display()\n",
    "        print(general_info, self.ID)\n",
    "        \n",
    "        \n",
    "animal_0 = Farm_animal(\"turkey\", \"bird\", 1477)\n",
    "animal_0.ID_card()\n",
    "animal_1 = Pet(\"cat\", \"mamal\", \"murf\")\n",
    "animal_1.ID_card()"
   ]
  },
  {
   "cell_type": "markdown",
   "id": "140d1742",
   "metadata": {},
   "source": [
    "### Polymorphism with class methods \n",
    "polymorphism means the same function name\n",
    "(but different signatures) being used for different types.\n",
    "like len() ."
   ]
  },
  {
   "cell_type": "code",
   "execution_count": 15,
   "id": "33f7b4ba",
   "metadata": {},
   "outputs": [
    {
     "name": "stdout",
     "output_type": "stream",
     "text": [
      "huff\n",
      "meow\n"
     ]
    }
   ],
   "source": [
    "class Dog:\n",
    "    def __init__(self):\n",
    "        pass\n",
    "    def sound(self):\n",
    "        print(\"huff\")\n",
    "        \n",
    "class Cat:\n",
    "    def __init__(self):\n",
    "        pass\n",
    "    def sound(self):\n",
    "        print(\"meow\")\n",
    "        \n",
    "        \n",
    "dog_obj = Dog()\n",
    "cat_obj = Cat()\n",
    "\n",
    "dog_obj.sound()\n",
    "cat_obj.sound()"
   ]
  }
 ],
 "metadata": {
  "kernelspec": {
   "display_name": "Python 3 (ipykernel)",
   "language": "python",
   "name": "python3"
  },
  "language_info": {
   "codemirror_mode": {
    "name": "ipython",
    "version": 3
   },
   "file_extension": ".py",
   "mimetype": "text/x-python",
   "name": "python",
   "nbconvert_exporter": "python",
   "pygments_lexer": "ipython3",
   "version": "3.9.12"
  }
 },
 "nbformat": 4,
 "nbformat_minor": 5
}
